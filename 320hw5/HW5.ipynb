{
  "cells": [
    {
      "cell_type": "markdown",
      "metadata": {
        "id": "C3dpW27oAKE1"
      },
      "source": [
        "# Part 0\n",
        "\n",
        "Download the following files:\n",
        "\n",
        "[Titanic Full](https://drive.google.com/file/d/1jv3Ctntzb07jqmbfTFKZeS699j0jBjjE/view?usp=share_link)\n",
        "\n",
        "[Titanic Training](https://drive.google.com/file/d/1WNatBun5NcGLtZrzBgb15ima4Euwep9B/view?usp=share_link)\n",
        "\n",
        "[Titanic Test](https://drive.google.com/file/d/1T0XwZ7VRqY5tAarbdvLEGuYCC4fVR0BY/view?usp=share_link)\n",
        "\n",
        "Load the three dataframes into memory, naming them titanic, titanic_train, and titanic_test.\n",
        "\n",
        "This exercise will be auto-graded, so please make sure to follow the instructions **exactly**."
      ]
    },
    {
      "cell_type": "code",
      "execution_count": 49,
      "metadata": {
        "id": "1ItvVdADEnux"
      },
      "outputs": [],
      "source": [
        "import pandas as pd\n",
        "from sklearn.svm import SVC\n",
        "from sklearn.tree import DecisionTreeClassifier\n",
        "from sklearn.metrics import accuracy_score\n",
        "from sklearn.model_selection import cross_val_score\n",
        "from sklearn.ensemble import RandomForestClassifier\n",
        "\n",
        "titanic = pd.read_csv('titanic.csv')\n",
        "titanic_train = pd.read_csv('titanic_train.csv')\n",
        "titanic_test = pd.read_csv('titanic_test.csv')"
      ]
    },
    {
      "cell_type": "markdown",
      "metadata": {
        "id": "IkKRKelyAr5L"
      },
      "source": [
        "# Part 1\n",
        "\n",
        "Write code that takes `titanic` and uses pd.get_dummies() to one-hot encode the \"Sex\" column, and add those columns to the titanic dataframe. Print the head of the new dataframe. Once we are done with this step, we won't use the `titanic` dataframe for anything else."
      ]
    },
    {
      "cell_type": "code",
      "execution_count": 50,
      "metadata": {
        "id": "qUtwMZGRBlli"
      },
      "outputs": [
        {
          "name": "stdout",
          "output_type": "stream",
          "text": [
            "    Age Cabin Embarked     Fare  \\\n",
            "0  22.0   NaN        S   7.2500   \n",
            "1  38.0   C85        C  71.2833   \n",
            "2  26.0   NaN        S   7.9250   \n",
            "3  35.0  C123        S  53.1000   \n",
            "4  35.0   NaN        S   8.0500   \n",
            "\n",
            "                                                Name  Parch  PassengerId  \\\n",
            "0                            Braund, Mr. Owen Harris      0            1   \n",
            "1  Cumings, Mrs. John Bradley (Florence Briggs Th...      0            2   \n",
            "2                             Heikkinen, Miss. Laina      0            3   \n",
            "3       Futrelle, Mrs. Jacques Heath (Lily May Peel)      0            4   \n",
            "4                           Allen, Mr. William Henry      0            5   \n",
            "\n",
            "   Pclass  SibSp  Survived            Ticket Title  Family_Size  Sex_female  \\\n",
            "0       3      1       0.0         A/5 21171    Mr            1           0   \n",
            "1       1      1       1.0          PC 17599   Mrs            1           1   \n",
            "2       3      0       1.0  STON/O2. 3101282  Miss            0           1   \n",
            "3       1      1       1.0            113803   Mrs            1           1   \n",
            "4       3      0       0.0            373450    Mr            0           0   \n",
            "\n",
            "   Sex_male  \n",
            "0         1  \n",
            "1         0  \n",
            "2         0  \n",
            "3         0  \n",
            "4         1  \n"
          ]
        }
      ],
      "source": [
        "titanic = pd.get_dummies(titanic, columns=[\"Sex\"])\n",
        "print(titanic.head())"
      ]
    },
    {
      "cell_type": "markdown",
      "metadata": {
        "id": "K2fhp_QVBmHq"
      },
      "source": [
        "# Part 2\n",
        "\n",
        "Train a [decision tree](https://scikit-learn.org/stable/modules/generated/sklearn.tree.DecisionTreeClassifier.html) using titanic_train. Print out the % accuracy of running the `predict()` function over `titanic_train[\"Survived\"]`. (Basically, we're predicting the decision tree's accuracy on the training set.)\n",
        "\n",
        "**For all classifiers, you must include the argument random_state=0 upon initilzation, or the auto-grader won't work. This will result in a 10% penalty.**"
      ]
    },
    {
      "cell_type": "code",
      "execution_count": 51,
      "metadata": {
        "id": "ou9N1PN3Cgkh"
      },
      "outputs": [
        {
          "name": "stdout",
          "output_type": "stream",
          "text": [
            "0.98125\n"
          ]
        }
      ],
      "source": [
        "clf = DecisionTreeClassifier(random_state=0)\n",
        "clf.fit(titanic_train.drop(\"Survived\", axis=1), titanic_train[\"Survived\"]) #train the decisiontree\n",
        "\n",
        "prediction = clf.predict(titanic_train.drop(\"Survived\", axis=1)) # Print the accuracy\n",
        "accuracy = accuracy_score(titanic_train[\"Survived\"], prediction)\n",
        "print(accuracy)"
      ]
    },
    {
      "cell_type": "markdown",
      "metadata": {
        "id": "9f4mvuMZCg5b"
      },
      "source": [
        "# Part 3\n",
        "\n",
        "Print out the trained decision trees accuracy on the test set."
      ]
    },
    {
      "cell_type": "code",
      "execution_count": 52,
      "metadata": {
        "id": "TIOLRofqCl-L"
      },
      "outputs": [
        {
          "name": "stdout",
          "output_type": "stream",
          "text": [
            "0.8241758241758241\n"
          ]
        }
      ],
      "source": [
        "prediction = clf.predict(titanic_test.drop(\"Survived\", axis=1))\n",
        "accuracy = accuracy_score(titanic_test[\"Survived\"], prediction)\n",
        "print(accuracy)"
      ]
    },
    {
      "cell_type": "markdown",
      "metadata": {
        "id": "31oDnUr6CmSi"
      },
      "source": [
        "# Part 4\n",
        "\n",
        "Going forward, you will not need titanic_test for anything.\n",
        "\n",
        "Using [this function](https://scikit-learn.org/stable/modules/generated/sklearn.model_selection.cross_val_score.html), print out the cross-val score for your decision tree with k=10 using **only the training set**. This will be an array of ten numbers."
      ]
    },
    {
      "cell_type": "code",
      "execution_count": 53,
      "metadata": {
        "id": "-yEaaH45DJMY"
      },
      "outputs": [
        {
          "name": "stdout",
          "output_type": "stream",
          "text": [
            "[0.75   0.725  0.7875 0.7125 0.8    0.7875 0.75   0.8    0.7125 0.75  ]\n"
          ]
        }
      ],
      "source": [
        "cross_val_scores = cross_val_score(clf, titanic_train.drop(\"Survived\", axis=1), titanic_train[\"Survived\"], cv=10)\n",
        "print(cross_val_scores)"
      ]
    },
    {
      "cell_type": "markdown",
      "metadata": {
        "id": "QABm92UvDMY5"
      },
      "source": [
        "# Part 5\n",
        "\n",
        "Print out the ten-fold cross-valdiation results for a [support vector machine](https://scikit-learn.org/stable/modules/generated/sklearn.svm.SVC.html) over the training set."
      ]
    },
    {
      "cell_type": "code",
      "execution_count": 54,
      "metadata": {
        "id": "cPGZ8aK0Dx6s"
      },
      "outputs": [
        {
          "name": "stdout",
          "output_type": "stream",
          "text": [
            "[0.6125 0.6    0.6375 0.75   0.7    0.6625 0.675  0.725  0.725  0.7   ]\n"
          ]
        }
      ],
      "source": [
        "svm = SVC(random_state=0)\n",
        "cross_val_scores_svm = cross_val_score(svm, titanic_train.drop(\"Survived\", axis=1), titanic_train[\"Survived\"], cv=10)\n",
        "print(cross_val_scores_svm)"
      ]
    },
    {
      "cell_type": "markdown",
      "metadata": {
        "id": "o0OlbaBbDyJ2"
      },
      "source": [
        "# Part 5\n",
        "\n",
        "Print out the ten-fold cross-valdiation results for a [random forest](https://scikit-learn.org/stable/modules/generated/sklearn.ensemble.RandomForestClassifier.html) over the training set."
      ]
    },
    {
      "cell_type": "code",
      "execution_count": 55,
      "metadata": {
        "id": "4oPzotUpD4TR"
      },
      "outputs": [
        {
          "name": "stdout",
          "output_type": "stream",
          "text": [
            "[0.7625 0.8    0.8125 0.775  0.85   0.8375 0.825  0.8375 0.7625 0.825 ]\n"
          ]
        }
      ],
      "source": [
        "rf = RandomForestClassifier(random_state=0)\n",
        "cross_val_scores_rf = cross_val_score(rf, titanic_train.drop(\"Survived\", axis=1), titanic_train[\"Survived\"], cv=10)\n",
        "print(cross_val_scores_rf)"
      ]
    }
  ],
  "metadata": {
    "colab": {
      "provenance": []
    },
    "kernelspec": {
      "display_name": "Python 3",
      "name": "python3"
    },
    "language_info": {
      "codemirror_mode": {
        "name": "ipython",
        "version": 3
      },
      "file_extension": ".py",
      "mimetype": "text/x-python",
      "name": "python",
      "nbconvert_exporter": "python",
      "pygments_lexer": "ipython3",
      "version": "3.10.9"
    }
  },
  "nbformat": 4,
  "nbformat_minor": 0
}
